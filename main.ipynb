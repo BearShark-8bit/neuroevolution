{
  "cells": [
    {
      "cell_type": "code",
      "execution_count": 1,
      "metadata": {
        "id": "DU7-4SjyZqCP"
      },
      "outputs": [],
      "source": [
        "# MODULES\n",
        "\n",
        "import numpy as np\n",
        "import matplotlib.pyplot as plt\n",
        "from random import random, choice\n",
        "import typing\n",
        "from functools import partial\n",
        "from itertools import tee"
      ]
    },
    {
      "cell_type": "code",
      "execution_count": 2,
      "metadata": {
        "id": "ehcgHVfhZqCQ"
      },
      "outputs": [],
      "source": [
        "# CONSTANTS\n",
        "\n",
        "FLOATING_DIGITS_IN_DNA = 3  # current: x.xx------------...(quite low precision)\n",
        "INT_SIZE_IN_DNA = 4  # bits current:2**7 = 128 + 1bit(sign)\n",
        "FLOAT_IN_DNA_LENGHT = INT_SIZE_IN_DNA / 2 + FLOATING_DIGITS_IN_DNA * 2  # XXXX XX XX\n",
        "BITS2DNA = {\"00\": \"A\", \"01\": \"C\", \"10\": \"G\", \"11\": \"T\"}\n",
        "DNA2BITS = {\"A\": \"00\", \"C\": \"01\", \"G\": \"10\", \"T\": \"11\"}"
      ]
    },
    {
      "cell_type": "code",
      "execution_count": 3,
      "metadata": {
        "id": "FA4_DSn-ZqCR"
      },
      "outputs": [],
      "source": [
        "# CLASSES\n",
        "\n",
        "\n",
        "class Perceptron:\n",
        "    def __init__(\n",
        "        self, weights: list[float|int], bias: float|int, activation: typing.Callable\n",
        "    ):\n",
        "        self.weights = np.array(weights)\n",
        "        self.bias = bias\n",
        "        self.activation = activation\n",
        "\n",
        "    def __call__(self, inputs: list[int|float]) -> float:\n",
        "        npinputs = np.array(inputs)\n",
        "        return self.activation(sum(npinputs * self.weights)+self.bias)\n",
        "\n",
        "\n",
        "class Network:\n",
        "    layers: list[list[Perceptron]]\n",
        "    activation: typing.Callable\n",
        "\n",
        "    @property\n",
        "    def shape(self) -> tuple[int, ...]:\n",
        "        return tuple([len(layer) for layer in self.layers])\n",
        "\n",
        "    def __call__(self, inputs: list[float|int]):\n",
        "        for layer in self.layers:\n",
        "            inputs = [perceptron(inputs) for perceptron in layer]\n",
        "        return inputs\n",
        "\n",
        "class DNA:\n",
        "    def __init__(self, seq: str='') -> None:\n",
        "        self.seq = seq\n",
        "    def __str__(self) -> str:\n",
        "        return self.seq\n",
        "    def __add__(self, other: 'DNA') -> 'DNA':\n",
        "        return DNA(self.seq + other.seq)\n",
        "    def __getitem__(self, key):\n",
        "        return DNA(self.seq[key])\n",
        "    def __len__(self):\n",
        "        return len(self.seq)\n",
        "    def __iter__(self):\n",
        "        return iter(self.seq)"
      ]
    },
    {
      "cell_type": "code",
      "execution_count": 4,
      "metadata": {
        "id": "tA8Wa1-gZqCR"
      },
      "outputs": [],
      "source": [
        "# FUNCTIONS\n",
        "\n",
        "\n",
        "def complete_bin(binary: str, digits: int, isneg: bool | None = None) -> str:\n",
        "    binary = \"0\" * (digits - len(binary) - (1 if not isneg == None else 0)) + binary\n",
        "    return ((\"1\" if isneg else \"0\") if not isneg == None else \"\") + binary\n",
        "\n",
        "\n",
        "def int2bin(n: int) -> str:\n",
        "    return bin(n).split(\"b\")[1]\n",
        "\n",
        "\n",
        "def bin2dna(binary: str) -> DNA:\n",
        "    res = DNA()\n",
        "    for i in range(0, len(binary), 2):\n",
        "        word = binary[i : i + 2]\n",
        "        res += DNA(BITS2DNA[word])\n",
        "    return res\n",
        "\n",
        "\n",
        "def float2dna(num: int | float) -> DNA:\n",
        "    num = round(float(num), FLOATING_DIGITS_IN_DNA)\n",
        "\n",
        "    integer, fraction = str(num).split(\".\")\n",
        "    integer = int(integer)\n",
        "    fraction = list(fraction)\n",
        "    if len(fraction) < FLOATING_DIGITS_IN_DNA: fraction += ['0'] * (FLOATING_DIGITS_IN_DNA - len(fraction))\n",
        "    fraction = map(int, fraction)\n",
        "\n",
        "    integer_bin = int2bin(integer)\n",
        "    fraction = map(int2bin, fraction)\n",
        "\n",
        "    if len(integer_bin) >= INT_SIZE_IN_DNA:\n",
        "        raise ValueError(\"too big float value\")\n",
        "\n",
        "    integer_complete = complete_bin(integer_bin, INT_SIZE_IN_DNA, num < 0)\n",
        "    onedigitcomplete = partial(complete_bin, digits=4)\n",
        "    fraction = map(onedigitcomplete, fraction)\n",
        "\n",
        "    fraction = map(bin2dna, fraction)\n",
        "    return (\n",
        "        bin2dna(integer_complete) + sum(fraction, DNA())\n",
        "    )\n",
        "\n",
        "\n",
        "def dna2float(dna: DNA) -> float:\n",
        "    integer_dna = dna[:INT_SIZE_IN_DNA]\n",
        "    fraction = dna[4:]\n",
        "    fraction = [fraction[i:i+2] for i in range(0, 2*FLOATING_DIGITS_IN_DNA, 2)]\n",
        "    for f in fraction:\n",
        "        print(f)\n",
        "\n",
        "    integer_bin = \"\".join([DNA2BITS[str(some)] for some in integer_dna])\n",
        "    first_bin = \"\".join([DNA2BITS[str(some)] for some in first_dna])\n",
        "    second_bin = \"\".join([DNA2BITS[str(some)] for some in second_dna])\n",
        "\n",
        "    integer = int(integer_bin[1:], 2) * (-1 if int(integer_bin[0]) else 1)\n",
        "    first = int(first_bin, 2)\n",
        "    second = int(second_bin, 2)\n",
        "\n",
        "    return float(f\"{integer}.{first}{second}\")\n",
        "\n",
        "\n",
        "def perceptron2dna(perceptron: Perceptron) -> DNA:\n",
        "    weights_dna = DNA()\n",
        "    for weight in perceptron.weights:\n",
        "        weights_dna += float2dna(weight)\n",
        "    return float2dna(len(perceptron.weights)) + weights_dna + float2dna(perceptron.bias)\n",
        "\n",
        "\n",
        "def dna2perceptron(dna: DNA, activation: typing.Callable) -> Perceptron:\n",
        "    inputs = int(dna2float(dna[:8]))\n",
        "    weights_dna = dna[8 : 8 + (inputs * 8)]\n",
        "    bias_dna = dna[8 + (inputs * 8) :]\n",
        "\n",
        "    weights = []\n",
        "    for i in range(0, (inputs) * 8, 8):\n",
        "        weight_dna = weights_dna[i : i + 8]\n",
        "        weights.append(dna2float(weight_dna))\n",
        "\n",
        "    return Perceptron(np.array(weights), dna2float(bias_dna), activation)\n",
        "\n",
        "\n",
        "def network2dna(network: Network) -> DNA:\n",
        "    network_dna = DNA()\n",
        "    for shape, layer in zip(network.shape, network.layers):\n",
        "        network_dna += float2dna(shape)\n",
        "        network_dna += float2dna(8 * 2 + 8 * len(layer[0].weights))\n",
        "        for perceptron in layer:\n",
        "            network_dna += perceptron2dna(perceptron)\n",
        "    return network_dna\n",
        "\n",
        "\n",
        "def dna2network(dna: DNA) -> Network:\n",
        "    pass"
      ]
    },
    {
      "cell_type": "code",
      "execution_count": 5,
      "metadata": {
        "colab": {
          "base_uri": "https://localhost:8080/",
          "height": 315
        },
        "id": "TevCb6mAZqCR",
        "outputId": "62feade1-f47e-40ef-f34d-81d8004d6d2a"
      },
      "outputs": [
        {
          "output_type": "stream",
          "name": "stdout",
          "text": [
            "CA\n",
            "GG\n",
            "\n"
          ]
        },
        {
          "output_type": "error",
          "ename": "NameError",
          "evalue": "name 'first_dna' is not defined",
          "traceback": [
            "\u001b[0;31m---------------------------------------------------------------------------\u001b[0m",
            "\u001b[0;31mNameError\u001b[0m                                 Traceback (most recent call last)",
            "\u001b[0;32m<ipython-input-5-889e0a0a58d0>\u001b[0m in \u001b[0;36m<cell line: 0>\u001b[0;34m()\u001b[0m\n\u001b[0;32m----> 1\u001b[0;31m \u001b[0mdna2float\u001b[0m\u001b[0;34m(\u001b[0m\u001b[0mDNA\u001b[0m\u001b[0;34m(\u001b[0m\u001b[0;34m'AACCCAGG'\u001b[0m\u001b[0;34m)\u001b[0m\u001b[0;34m)\u001b[0m\u001b[0;34m\u001b[0m\u001b[0;34m\u001b[0m\u001b[0m\n\u001b[0m",
            "\u001b[0;32m<ipython-input-4-39d2dff2502e>\u001b[0m in \u001b[0;36mdna2float\u001b[0;34m(dna)\u001b[0m\n\u001b[1;32m     52\u001b[0m \u001b[0;34m\u001b[0m\u001b[0m\n\u001b[1;32m     53\u001b[0m     \u001b[0minteger_bin\u001b[0m \u001b[0;34m=\u001b[0m \u001b[0;34m\"\"\u001b[0m\u001b[0;34m.\u001b[0m\u001b[0mjoin\u001b[0m\u001b[0;34m(\u001b[0m\u001b[0;34m[\u001b[0m\u001b[0mDNA2BITS\u001b[0m\u001b[0;34m[\u001b[0m\u001b[0mstr\u001b[0m\u001b[0;34m(\u001b[0m\u001b[0msome\u001b[0m\u001b[0;34m)\u001b[0m\u001b[0;34m]\u001b[0m \u001b[0;32mfor\u001b[0m \u001b[0msome\u001b[0m \u001b[0;32min\u001b[0m \u001b[0minteger_dna\u001b[0m\u001b[0;34m]\u001b[0m\u001b[0;34m)\u001b[0m\u001b[0;34m\u001b[0m\u001b[0;34m\u001b[0m\u001b[0m\n\u001b[0;32m---> 54\u001b[0;31m     \u001b[0mfirst_bin\u001b[0m \u001b[0;34m=\u001b[0m \u001b[0;34m\"\"\u001b[0m\u001b[0;34m.\u001b[0m\u001b[0mjoin\u001b[0m\u001b[0;34m(\u001b[0m\u001b[0;34m[\u001b[0m\u001b[0mDNA2BITS\u001b[0m\u001b[0;34m[\u001b[0m\u001b[0mstr\u001b[0m\u001b[0;34m(\u001b[0m\u001b[0msome\u001b[0m\u001b[0;34m)\u001b[0m\u001b[0;34m]\u001b[0m \u001b[0;32mfor\u001b[0m \u001b[0msome\u001b[0m \u001b[0;32min\u001b[0m \u001b[0mfirst_dna\u001b[0m\u001b[0;34m]\u001b[0m\u001b[0;34m)\u001b[0m\u001b[0;34m\u001b[0m\u001b[0;34m\u001b[0m\u001b[0m\n\u001b[0m\u001b[1;32m     55\u001b[0m     \u001b[0msecond_bin\u001b[0m \u001b[0;34m=\u001b[0m \u001b[0;34m\"\"\u001b[0m\u001b[0;34m.\u001b[0m\u001b[0mjoin\u001b[0m\u001b[0;34m(\u001b[0m\u001b[0;34m[\u001b[0m\u001b[0mDNA2BITS\u001b[0m\u001b[0;34m[\u001b[0m\u001b[0mstr\u001b[0m\u001b[0;34m(\u001b[0m\u001b[0msome\u001b[0m\u001b[0;34m)\u001b[0m\u001b[0;34m]\u001b[0m \u001b[0;32mfor\u001b[0m \u001b[0msome\u001b[0m \u001b[0;32min\u001b[0m \u001b[0msecond_dna\u001b[0m\u001b[0;34m]\u001b[0m\u001b[0;34m)\u001b[0m\u001b[0;34m\u001b[0m\u001b[0;34m\u001b[0m\u001b[0m\n\u001b[1;32m     56\u001b[0m \u001b[0;34m\u001b[0m\u001b[0m\n",
            "\u001b[0;31mNameError\u001b[0m: name 'first_dna' is not defined"
          ]
        }
      ],
      "source": [
        "dna2float(DNA('AACCCAGG'))"
      ]
    }
  ],
  "metadata": {
    "kernelspec": {
      "display_name": ".venv",
      "language": "python",
      "name": "python3"
    },
    "language_info": {
      "codemirror_mode": {
        "name": "ipython",
        "version": 3
      },
      "file_extension": ".py",
      "mimetype": "text/x-python",
      "name": "python",
      "nbconvert_exporter": "python",
      "pygments_lexer": "ipython3",
      "version": "3.13.2"
    },
    "colab": {
      "provenance": []
    }
  },
  "nbformat": 4,
  "nbformat_minor": 0
}