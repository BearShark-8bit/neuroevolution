{
 "cells": [
  {
   "cell_type": "code",
   "execution_count": 1,
   "metadata": {},
   "outputs": [],
   "source": [
    "from NN import *\n",
    "\n",
    "nn = NN(1, 3, 4, 3, 1)"
   ]
  },
  {
   "cell_type": "code",
   "execution_count": 2,
   "metadata": {},
   "outputs": [
    {
     "data": {
      "text/plain": [
       "(array([[-0.31413859]]),\n",
       " [array([[-0.30559444,  0.20630968, -0.13413974]]),\n",
       "  array([[-0.18089551,  0.12795975,  0.01940979, -0.30647387]]),\n",
       "  array([[-0.06625775,  0.95259498, -0.38340762]]),\n",
       "  array([[-0.31413859]])],\n",
       " [array([[-0.30559444,  0.20630968, -0.13413974]]),\n",
       "  array([[-0.18089551,  0.12795975,  0.01940979, -0.30647387]]),\n",
       "  array([[-0.06625775,  0.95259498, -0.38340762]]),\n",
       "  array([[-0.31413859]])])"
      ]
     },
     "execution_count": 2,
     "metadata": {},
     "output_type": "execute_result"
    }
   ],
   "source": [
    "nn([[1]])"
   ]
  }
 ],
 "metadata": {
  "kernelspec": {
   "display_name": "Python 3 (ipykernel)",
   "language": "python",
   "name": "python3"
  },
  "language_info": {
   "codemirror_mode": {
    "name": "ipython",
    "version": 3
   },
   "file_extension": ".py",
   "mimetype": "text/x-python",
   "name": "python",
   "nbconvert_exporter": "python",
   "pygments_lexer": "ipython3",
   "version": "3.12.1"
  }
 },
 "nbformat": 4,
 "nbformat_minor": 4
}
