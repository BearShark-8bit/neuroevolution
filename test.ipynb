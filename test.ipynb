{
 "cells": [
  {
   "cell_type": "code",
   "execution_count": 77,
   "metadata": {},
   "outputs": [],
   "source": [
    "from NN import *\n",
    "\n",
    "nn = NN(1, 3, 4, 3, 1)"
   ]
  },
  {
   "cell_type": "code",
   "execution_count": 78,
   "metadata": {},
   "outputs": [
    {
     "data": {
      "text/plain": [
       "(array([[-4.8090691]]),\n",
       " [array([[ 0.23328007,  0.92933799, -0.55628461]]),\n",
       "  array([[ 0.60940559, -0.92362304, -1.8425073 , -0.24093914]]),\n",
       "  array([[ 1.97034327, -1.81860934,  1.10838074]]),\n",
       "  array([[-4.8090691]])],\n",
       " [array([[ 0.23328007,  0.92933799, -0.55628461]]),\n",
       "  array([[ 0.60940559, -0.92362304, -1.8425073 , -0.24093914]]),\n",
       "  array([[ 1.97034327, -1.81860934,  1.10838074]]),\n",
       "  array([[-4.8090691]])])"
      ]
     },
     "execution_count": 78,
     "metadata": {},
     "output_type": "execute_result"
    }
   ],
   "source": [
    "nn([[1]])"
   ]
  }
 ],
 "metadata": {
  "kernelspec": {
   "display_name": ".venv",
   "language": "python",
   "name": "python3"
  },
  "language_info": {
   "codemirror_mode": {
    "name": "ipython",
    "version": 3
   },
   "file_extension": ".py",
   "mimetype": "text/x-python",
   "name": "python",
   "nbconvert_exporter": "python",
   "pygments_lexer": "ipython3",
   "version": "3.13.2"
  }
 },
 "nbformat": 4,
 "nbformat_minor": 2
}
