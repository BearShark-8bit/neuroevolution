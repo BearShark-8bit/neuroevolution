{
 "cells": [
  {
   "cell_type": "code",
   "execution_count": 2,
   "id": "06b23f69-c86e-43e3-a404-62c9aca9a668",
   "metadata": {},
   "outputs": [],
   "source": [
    "import neuralnetworks"
   ]
  },
  {
   "cell_type": "code",
   "execution_count": null,
   "id": "038f7c3c-3bed-4857-9b47-eae35b8113ed",
   "metadata": {},
   "outputs": [],
   "source": []
  }
 ],
 "metadata": {
  "kernelspec": {
   "display_name": "Python 3 (ipykernel)",
   "language": "python",
   "name": "python3"
  },
  "language_info": {
   "codemirror_mode": {
    "name": "ipython",
    "version": 3
   },
   "file_extension": ".py",
   "mimetype": "text/x-python",
   "name": "python",
   "nbconvert_exporter": "python",
   "pygments_lexer": "ipython3",
   "version": "3.12.1"
  }
 },
 "nbformat": 4,
 "nbformat_minor": 5
}
