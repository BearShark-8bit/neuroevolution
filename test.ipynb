{
 "cells": [
  {
   "cell_type": "code",
   "execution_count": 211,
   "metadata": {},
   "outputs": [],
   "source": [
    "from NN import *\n",
    "\n",
    "nn = NN(1, 3, 4, 3, 1).func(lambda x: np.maximum(0, x))"
   ]
  },
  {
   "cell_type": "code",
   "execution_count": 212,
   "metadata": {},
   "outputs": [
    {
     "data": {
      "text/plain": [
       "(array([[0.]]),\n",
       " [array([[0.28479014, 0.19810867, 0.31130256]]),\n",
       "  array([[-0.7132709 ,  0.93072987, -0.31513722,  0.5441497 ]]),\n",
       "  array([[ 0.3348337 ,  1.0245998 , -2.69565305]]),\n",
       "  array([[-1.83560484]])],\n",
       " [array([[0.28479014, 0.19810867, 0.31130256]]),\n",
       "  array([[0.        , 0.93072987, 0.        , 0.5441497 ]]),\n",
       "  array([[0.3348337, 1.0245998, 0.       ]]),\n",
       "  array([[0.]])])"
      ]
     },
     "execution_count": 212,
     "metadata": {},
     "output_type": "execute_result"
    }
   ],
   "source": [
    "nn([[1]])"
   ]
  }
 ],
 "metadata": {
  "kernelspec": {
   "display_name": ".venv",
   "language": "python",
   "name": "python3"
  },
  "language_info": {
   "codemirror_mode": {
    "name": "ipython",
    "version": 3
   },
   "file_extension": ".py",
   "mimetype": "text/x-python",
   "name": "python",
   "nbconvert_exporter": "python",
   "pygments_lexer": "ipython3",
   "version": "3.13.2"
  }
 },
 "nbformat": 4,
 "nbformat_minor": 2
}
